{
 "cells": [
  {
   "cell_type": "markdown",
   "id": "4143e33e",
   "metadata": {},
   "source": [
    "# hold-out-cv"
   ]
  },
  {
   "cell_type": "code",
   "execution_count": 3,
   "id": "8b0fcc82",
   "metadata": {},
   "outputs": [],
   "source": [
    "import numpy as np \n",
    "from sklearn.model_selection import train_test_split\n",
    "import pandas as pd"
   ]
  },
  {
   "cell_type": "code",
   "execution_count": 4,
   "id": "bb116a81",
   "metadata": {},
   "outputs": [],
   "source": [
    "x=[10,20,30,40,50,60,70,80,90,100]"
   ]
  },
  {
   "cell_type": "code",
   "execution_count": 5,
   "id": "c0406030",
   "metadata": {},
   "outputs": [],
   "source": [
    "x_train,x_test=train_test_split(x,test_size=0.3) "
   ]
  },
  {
   "cell_type": "code",
   "execution_count": 6,
   "id": "0160c9de",
   "metadata": {},
   "outputs": [
    {
     "data": {
      "text/plain": [
       "[30, 80, 20, 10, 70, 100, 60]"
      ]
     },
     "execution_count": 6,
     "metadata": {},
     "output_type": "execute_result"
    }
   ],
   "source": [
    "x_train"
   ]
  },
  {
   "cell_type": "code",
   "execution_count": 7,
   "id": "dcf94500",
   "metadata": {},
   "outputs": [
    {
     "data": {
      "text/plain": [
       "[90, 40, 50]"
      ]
     },
     "execution_count": 7,
     "metadata": {},
     "output_type": "execute_result"
    }
   ],
   "source": [
    "x_test"
   ]
  },
  {
   "cell_type": "markdown",
   "id": "ba999645",
   "metadata": {},
   "source": [
    "# Leave-one-out-cv"
   ]
  },
  {
   "cell_type": "code",
   "execution_count": 10,
   "id": "d1d2ab9c",
   "metadata": {},
   "outputs": [],
   "source": [
    "from sklearn.model_selection import LeaveOneOut"
   ]
  },
  {
   "cell_type": "code",
   "execution_count": 11,
   "id": "b1220898",
   "metadata": {},
   "outputs": [],
   "source": [
    "l = LeaveOneOut()"
   ]
  },
  {
   "cell_type": "code",
   "execution_count": 13,
   "id": "fc7a4b53",
   "metadata": {},
   "outputs": [
    {
     "name": "stdout",
     "output_type": "stream",
     "text": [
      "[1 2 3 4 5 6 7 8 9] [0]\n",
      "[0 2 3 4 5 6 7 8 9] [1]\n",
      "[0 1 3 4 5 6 7 8 9] [2]\n",
      "[0 1 2 4 5 6 7 8 9] [3]\n",
      "[0 1 2 3 5 6 7 8 9] [4]\n",
      "[0 1 2 3 4 6 7 8 9] [5]\n",
      "[0 1 2 3 4 5 7 8 9] [6]\n",
      "[0 1 2 3 4 5 6 8 9] [7]\n",
      "[0 1 2 3 4 5 6 7 9] [8]\n",
      "[0 1 2 3 4 5 6 7 8] [9]\n"
     ]
    }
   ],
   "source": [
    "for train,test in l.split(x):\n",
    "    print(train,test)"
   ]
  },
  {
   "cell_type": "markdown",
   "id": "aeba41a8",
   "metadata": {},
   "source": [
    "# Leave-P-Out-CV"
   ]
  },
  {
   "cell_type": "code",
   "execution_count": 16,
   "id": "b0cb83b0",
   "metadata": {},
   "outputs": [
    {
     "name": "stdout",
     "output_type": "stream",
     "text": [
      "TRAIN: [3] TEST: [0 1 2]\n",
      "TRAIN: [2] TEST: [0 1 3]\n",
      "TRAIN: [1] TEST: [0 2 3]\n",
      "TRAIN: [0] TEST: [1 2 3]\n"
     ]
    }
   ],
   "source": [
    "from sklearn.model_selection import LeavePOut\n",
    "x = np.array([[1,2],[3,4],[5,6],[7,8]])\n",
    "y = np.array([1,2,3,4])\n",
    "lpo = LeavePOut(2)\n",
    "for train_index,test_index in lpo.split(x):\n",
    "    print(\"TRAIN:\",train_index,\"TEST:\",test_index)\n",
    "    x_train,x_test = x[train_index],x[test_index]\n",
    "    y_train,y_test=y[train_index],y[test_index]\n"
   ]
  },
  {
   "cell_type": "markdown",
   "id": "68144684",
   "metadata": {},
   "source": [
    "# K-fold cross validation"
   ]
  },
  {
   "cell_type": "code",
   "execution_count": 18,
   "id": "7721982a",
   "metadata": {},
   "outputs": [
    {
     "name": "stdout",
     "output_type": "stream",
     "text": [
      "Train Data [2 3 4 5] Test Data [0 1]\n",
      "Train Data [0 1 4 5] Test Data [2 3]\n",
      "Train Data [0 1 2 3] Test Data [4 5]\n"
     ]
    }
   ],
   "source": [
    "from sklearn.model_selection import KFold\n",
    "x=[\"a\",\"b\",\"c\",\"d\",\"e\",\"f\"]\n",
    "kf = KFold(n_splits=3,shuffle=False,random_state=None)\n",
    "for train,test in kf.split(x):\n",
    "    print(\"Train Data\",train,\"Test Data\",test)"
   ]
  },
  {
   "cell_type": "markdown",
   "id": "5aa258ce",
   "metadata": {},
   "source": [
    "# Stratified K-Fold CV"
   ]
  },
  {
   "cell_type": "code",
   "execution_count": 19,
   "id": "52a24b65",
   "metadata": {},
   "outputs": [
    {
     "name": "stdout",
     "output_type": "stream",
     "text": [
      "Train: [1 3 4 5] Test: [0 2]\n",
      "Train: [0 2 3 5] Test: [1 4]\n",
      "Train: [0 1 2 4] Test: [3 5]\n"
     ]
    }
   ],
   "source": [
    "from sklearn.model_selection import StratifiedKFold\n",
    "x = np.array([[1,2],[3,4],[5,6],[7,8],[9,10],[11,12]])\n",
    "y = np.array([0,0,1,0,1,1])\n",
    "\n",
    "skf = StratifiedKFold(n_splits=3,random_state=None,shuffle=False)\n",
    "\n",
    "for train_index,test_index in skf.split(x,y):\n",
    "    print(\"Train:\",train_index,\"Test:\",test_index)\n",
    "    x_train,x_test = x[train_index],x[test_index]\n",
    "    y_train,y_test=y[train_index],y[test_index]"
   ]
  },
  {
   "cell_type": "code",
   "execution_count": null,
   "id": "1b5b8427",
   "metadata": {},
   "outputs": [],
   "source": []
  }
 ],
 "metadata": {
  "kernelspec": {
   "display_name": "Python 3 (ipykernel)",
   "language": "python",
   "name": "python3"
  },
  "language_info": {
   "codemirror_mode": {
    "name": "ipython",
    "version": 3
   },
   "file_extension": ".py",
   "mimetype": "text/x-python",
   "name": "python",
   "nbconvert_exporter": "python",
   "pygments_lexer": "ipython3",
   "version": "3.9.12"
  }
 },
 "nbformat": 4,
 "nbformat_minor": 5
}
